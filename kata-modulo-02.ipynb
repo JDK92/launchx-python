{
 "cells": [
  {
   "cell_type": "markdown",
   "metadata": {},
   "source": [
    "##  En la carpeta kata-modulo-02 están las capturas de pantalla (dentro de screenshots) del resultado de la kata perteneciente al Módulo 02."
   ]
  },
  {
   "cell_type": "code",
   "execution_count": null,
   "metadata": {},
   "outputs": [],
   "source": [
    "python -m venv env"
   ]
  }
 ],
 "metadata": {
  "interpreter": {
   "hash": "e7d1eee3651c33731e610f2dd0bb059a43fdb442764588196a5384f88eb58da3"
  },
  "kernelspec": {
   "display_name": "Python 3.10.2 64-bit",
   "language": "python",
   "name": "python3"
  },
  "language_info": {
   "name": "python",
   "version": "3.10.2"
  },
  "orig_nbformat": 4
 },
 "nbformat": 4,
 "nbformat_minor": 2
}
