{
 "cells": [
  {
   "cell_type": "markdown",
   "metadata": {},
   "source": [
    "##  Estructuras de control"
   ]
  },
  {
   "cell_type": "code",
   "execution_count": 1,
   "metadata": {},
   "outputs": [
    {
     "name": "stdout",
     "output_type": "stream",
     "text": [
      "Do not enter an empty answer\n",
      "Do not enter an empty answer\n",
      "Do not enter an empty answer\n",
      "Do not enter an empty answer\n",
      "1 - a\n",
      "2 - b\n",
      "3 - c\n",
      "4 - ddd\n",
      "5 - aa\n",
      "6 - ww\n"
     ]
    }
   ],
   "source": [
    "# Ejercicio 1: Uso de ciclos while en Python\n",
    "\n",
    "counter = 0\n",
    "planets = []\n",
    "new_planet = \"\"\n",
    "\n",
    "while new_planet.lower() != \"done\":\n",
    "    new_planet = input(\"Enter a planet or write done when you're finished\")\n",
    "    if new_planet == \"\":\n",
    "        print(\"Do not enter an empty answer\")\n",
    "        continue\n",
    "    if new_planet != \"done\":\n",
    "        planets.append(new_planet)\n",
    "\n",
    "\n",
    "# Ejercicio 2: Creación de un ciclo \"for\"\n",
    "\n",
    "if len(planets) > 0:\n",
    "    for planet in planets:\n",
    "        counter += 1\n",
    "        print(f\"{counter} - {planet}\")\n",
    "else:\n",
    "    print(\"No planet found\")\n"
   ]
  }
 ],
 "metadata": {
  "interpreter": {
   "hash": "e7d1eee3651c33731e610f2dd0bb059a43fdb442764588196a5384f88eb58da3"
  },
  "kernelspec": {
   "display_name": "Python 3.10.2 64-bit",
   "language": "python",
   "name": "python3"
  },
  "language_info": {
   "codemirror_mode": {
    "name": "ipython",
    "version": 3
   },
   "file_extension": ".py",
   "mimetype": "text/x-python",
   "name": "python",
   "nbconvert_exporter": "python",
   "pygments_lexer": "ipython3",
   "version": "3.10.2"
  },
  "orig_nbformat": 4
 },
 "nbformat": 4,
 "nbformat_minor": 2
}
