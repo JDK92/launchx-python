{
 "cells": [
  {
   "cell_type": "markdown",
   "metadata": {},
   "source": [
    "##  Ejercicio - Escribir declaraciones if, else, y elif"
   ]
  },
  {
   "cell_type": "code",
   "execution_count": 8,
   "metadata": {},
   "outputs": [
    {
     "name": "stdout",
     "output_type": "stream",
     "text": [
      "Advertencia!!!\n",
      "Nada que ver aquí\n"
     ]
    }
   ],
   "source": [
    "## Ejercicio 1\n",
    "\n",
    "vel_asteroide_uno = 49\n",
    "limite_alarma = 25\n",
    "\n",
    "if vel_asteroide_uno > limite_alarma:\n",
    "    print(\"Advertencia!!!\")\n",
    "else:\n",
    "    print(\"Sin peligro por asteroide\")\n",
    "\n",
    "\n",
    "## Ejercicio 2\n",
    "\n",
    "vel_asteroide_dos = 19\n",
    "vel_rayo_luz = 20\n",
    "\n",
    "if vel_asteroide_dos >= vel_rayo_luz:\n",
    "    print(\"Un asteroide generó un rayo de luz en el cielo\")\n",
    "else:\n",
    "    print(\"Nada que ver aquí\")"
   ]
  },
  {
   "cell_type": "markdown",
   "metadata": {},
   "source": [
    "##  Ejercicio: Uso de operadores and y or"
   ]
  },
  {
   "cell_type": "code",
   "execution_count": 6,
   "metadata": {},
   "outputs": [
    {
     "name": "stdout",
     "output_type": "stream",
     "text": [
      "Voltea al cielo! Un asteroide generó un rayo de luz!\n"
     ]
    }
   ],
   "source": [
    "## Ejercicio 2\n",
    "\n",
    "velocidad_asteroide = 29\n",
    "tamano_asteroide = 10\n",
    "\n",
    "if velocidad_asteroide > 25 and tamano_asteroide > 25:\n",
    "    print(\"Alerta! Un asteroide enorme se acerca a toda velocidad!\")\n",
    "elif velocidad_asteroide >= 20:\n",
    "    print(\"Voltea al cielo! Un asteroide generó un rayo de luz!\")\n",
    "else:\n",
    "    print(\"El asteroide no representa peligro para el planeta\")\n"
   ]
  }
 ],
 "metadata": {
  "interpreter": {
   "hash": "e7d1eee3651c33731e610f2dd0bb059a43fdb442764588196a5384f88eb58da3"
  },
  "kernelspec": {
   "display_name": "Python 3.10.2 64-bit",
   "language": "python",
   "name": "python3"
  },
  "language_info": {
   "codemirror_mode": {
    "name": "ipython",
    "version": 3
   },
   "file_extension": ".py",
   "mimetype": "text/x-python",
   "name": "python",
   "nbconvert_exporter": "python",
   "pygments_lexer": "ipython3",
   "version": "3.10.2"
  },
  "orig_nbformat": 4
 },
 "nbformat": 4,
 "nbformat_minor": 2
}
