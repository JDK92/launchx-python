{
 "cells": [
  {
   "cell_type": "markdown",
   "metadata": {},
   "source": [
    "##  Ejercicio 1: Transformar cadenas"
   ]
  },
  {
   "cell_type": "code",
   "execution_count": 4,
   "metadata": {},
   "outputs": [
    {
     "name": "stdout",
     "output_type": "stream",
     "text": [
      "Sentence related to 'average': There are several interesting facts about the Moon and how it affects life here on Earth.\n",
      "On average, the Moon moves 4cm away from the Earth every year\n",
      "Sentence related to 'temperature': The highest daylight temperature of the Moon is 127 C.\n",
      "\n",
      "\n",
      "Text with C instead of Celsius: Interesting facts about the Moon. The Moon is Earth's only satellite. There are several interesting facts about the Moon and how it affects life here on Earth.\n",
      "On average, the Moon moves 4cm away from the Earth every year. This yearly drift is not significant enough to cause immediate effects on Earth. The highest daylight temperature of the Moon is 127 C.\n"
     ]
    }
   ],
   "source": [
    "text = \"\"\"Interesting facts about the Moon. The Moon is Earth's only satellite. There are several interesting facts about the Moon and how it affects life here on Earth.\n",
    "On average, the Moon moves 4cm away from the Earth every year. This yearly drift is not significant enough to cause immediate effects on Earth. The highest daylight temperature of the Moon is 127 C.\"\"\"\n",
    "\n",
    "words_list = [\"average\", \"temperature\", \"distance\"]\n",
    "\n",
    "sentences = text.split(\". \")\n",
    "\n",
    "for sentence in sentences:\n",
    "    for word in words_list:\n",
    "        if (sentence.lower().find(word.lower()) > 0):\n",
    "            print(f\"Sentence related to '{word}': {sentence}\")\n",
    "\n",
    "for sentence in sentences:\n",
    "    sentence.replace(\"C\", \"Celsius\")\n",
    "\n",
    "new_text = \". \".join(sentences)\n",
    "\n",
    "print(\"\\n\")\n",
    "print(f\"Text with C instead of Celsius: {new_text}\")\n"
   ]
  },
  {
   "cell_type": "markdown",
   "metadata": {},
   "source": [
    "##  Ejercicio 2: Formateando Cadenas"
   ]
  },
  {
   "cell_type": "code",
   "execution_count": 8,
   "metadata": {},
   "outputs": [
    {
     "name": "stdout",
     "output_type": "stream",
     "text": [
      "Gravity Facts about Moon\n",
      "------------------------------------------------------------------\n",
      "Planet Name: Earth\n",
      "Gravity on Moon: 1.6199999999999999 m/s2\n",
      "\n",
      "\n",
      "Gravity Facts about Moon\n",
      "------------------------------------------------------------------\n",
      "Planet Name: Earth\n",
      "Gravity on Moon: 1.6199999999999999 m/s2\n",
      "\n",
      "\n",
      "Gravity Facts about Ganimedes\n",
      "-------------------------------------------------------------------------------\n",
      "Planet Name: Mars\n",
      "Gravity on Ganimedes: 1.4300000000000002 m/s2\n",
      "\n"
     ]
    }
   ],
   "source": [
    "# Example of response:\n",
    "\n",
    "# Gravity Facts about Ganymede\n",
    "# -------------------------------------------------------------------------------\n",
    "# Planet Name: Mars\n",
    "# Gravity on Ganymede: 1.4300000000000002 m/s2\n",
    "\n",
    "\n",
    "name = \"Moon\"\n",
    "gravity = 0.00162  # in kms\n",
    "planet = \"Earth\"\n",
    "\n",
    "\n",
    "title = \"Gravity Facts about \" + name\n",
    "line_divider = \"------------------------------------------------------------------\"\n",
    "facts = f\"Planet Name: {planet}\\nGravity on {name}: {gravity * 1000} m/s2\"\n",
    "\n",
    "template = f\"{title}\\n{line_divider}\\n{facts}\"\n",
    "\n",
    "print(template)\n",
    "print(\"\\n\")\n",
    "\n",
    "name = \"Ganimedes\"\n",
    "gravity = 0.00143\n",
    "planet = \"Mars\"\n",
    "\n",
    "print(template)\n",
    "print(\"\\n\")\n",
    "\n",
    "new_template = \"\"\"Gravity Facts about {name}\n",
    "-------------------------------------------------------------------------------\n",
    "Planet Name: {planet}\n",
    "Gravity on {name}: {gravity} m/s2\n",
    "\"\"\"\n",
    "\n",
    "print(new_template.format(name=\"Ganimedes\", planet=\"Mars\", gravity=0.00143*1000))\n"
   ]
  }
 ],
 "metadata": {
  "interpreter": {
   "hash": "e7d1eee3651c33731e610f2dd0bb059a43fdb442764588196a5384f88eb58da3"
  },
  "kernelspec": {
   "display_name": "Python 3.10.2 64-bit",
   "language": "python",
   "name": "python3"
  },
  "language_info": {
   "codemirror_mode": {
    "name": "ipython",
    "version": 3
   },
   "file_extension": ".py",
   "mimetype": "text/x-python",
   "name": "python",
   "nbconvert_exporter": "python",
   "pygments_lexer": "ipython3",
   "version": "3.10.2"
  },
  "orig_nbformat": 4
 },
 "nbformat": 4,
 "nbformat_minor": 2
}
