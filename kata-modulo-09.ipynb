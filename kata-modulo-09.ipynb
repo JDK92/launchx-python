{
 "cells": [
  {
   "cell_type": "markdown",
   "metadata": {},
   "source": [
    "##  Uso de funciones en Python\n"
   ]
  },
  {
   "cell_type": "code",
   "execution_count": null,
   "metadata": {},
   "outputs": [],
   "source": [
    "##  Ejercicio 1: Trabajar con argumentos en funciones\n",
    "\n",
    "def calcular_promedio(*valores):\n",
    "    total = 0\n",
    "    for v in valores:\n",
    "        total += v\n",
    "    return total / len(valores)\n",
    "\n",
    "def lector_gasolina(tanque_uno, tanque_dos, tanque_tres):\n",
    "    promedio = calcular_promedio(tanque_uno, tanque_dos, tanque_tres)\n",
    "    return f\"\"\"    Nivel del tanque uno: {tanque_uno}.\n",
    "    Nivel del tanque dos: {tanque_dos}.\n",
    "    Nivel del tanque tres: {tanque_tres}.\n",
    "    Promedio de combustible: {promedio}\"\"\"\n",
    "    \n",
    "\n",
    "print(lector_gasolina(10,20,30))"
   ]
  },
  {
   "cell_type": "code",
   "execution_count": 11,
   "metadata": {},
   "outputs": [
    {
     "name": "stdout",
     "output_type": "stream",
     "text": [
      "Misión con destino a: Moon\n",
      "Tiempo de misión: 74\n",
      "Total de combustible: 500000\n",
      "main: 300000\n",
      "external: 200000\n",
      "\n"
     ]
    }
   ],
   "source": [
    "# Ejercicio 2: Trabajo con argumentos de palabra clave\n",
    "\n",
    "# Función con un informe preciso de la misión. Considera hora de prelanzamiento, tiempo de vuelo, destino, tanque externo y tanque interno\n",
    "\n",
    "def informe(hora_prelanzamiento, tiempo_vuelo, destino, tanque_externo, tanque_interno):\n",
    "    total_tiempo = tiempo_vuelo + hora_prelanzamiento\n",
    "    total_combustible = tanque_externo + tanque_interno\n",
    "\n",
    "    reporte = str.format(\"\"\"Misión con destino a: {destino}\\nTiempo de misión: {tiempo}\\nTotal de combustible: {combustible}\"\"\", destino=destino, tiempo=total_tiempo, combustible=total_combustible)\n",
    "\n",
    "    print(reporte)\n",
    "\n",
    "\n",
    "def informe_dos(destino, *minutos, **combustible):\n",
    "    total_minutos = sum(minutos)\n",
    "    total_combustible = sum(combustible.values())\n",
    "\n",
    "    print(f\"\"\"Misión con destino a: {destino}\n",
    "    Tiempo de misión: {total_minutos}\n",
    "    Total de combustible: {total_combustible}\"\"\")\n",
    "\n",
    "\n",
    "def informe_tres(destino, *minutos, **combustible):    \n",
    "    lugar_destino = f\"Misión con destino a: {destino}\"\n",
    "    total_minutos = f\"Tiempo de misión: {sum(minutos)}\"\n",
    "    total_combustible = f\"Total de combustible: {sum(combustible.values())}\"\n",
    "\n",
    "    reporte_combustible = \"\"\n",
    "    tanques = combustible.keys()\n",
    "    for tanque in tanques:\n",
    "        reporte_combustible += f\"{tanque}: {combustible[tanque]}\\n\" \n",
    "    \n",
    "    print(f\"{lugar_destino}\\n{total_minutos}\\n{total_combustible}\\n{reporte_combustible}\")\n",
    "\n",
    "    \n"
   ]
  }
 ],
 "metadata": {
  "interpreter": {
   "hash": "e7d1eee3651c33731e610f2dd0bb059a43fdb442764588196a5384f88eb58da3"
  },
  "kernelspec": {
   "display_name": "Python 3.10.2 64-bit",
   "language": "python",
   "name": "python3"
  },
  "language_info": {
   "codemirror_mode": {
    "name": "ipython",
    "version": 3
   },
   "file_extension": ".py",
   "mimetype": "text/x-python",
   "name": "python",
   "nbconvert_exporter": "python",
   "pygments_lexer": "ipython3",
   "version": "3.10.2"
  },
  "orig_nbformat": 4
 },
 "nbformat": 4,
 "nbformat_minor": 2
}
