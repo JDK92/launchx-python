{
 "cells": [
  {
   "cell_type": "markdown",
   "metadata": {},
   "source": [
    "##  Ejercicio1 - Utilizar operadores aritméticos"
   ]
  },
  {
   "cell_type": "code",
   "execution_count": 1,
   "metadata": {},
   "outputs": [
    {
     "name": "stdout",
     "output_type": "stream",
     "text": [
      "628949330\n",
      "390577534\n"
     ]
    }
   ],
   "source": [
    "distancia_tierra = 149_597_870\n",
    "distancia_jupiter = 778_547_200\n",
    "\n",
    "distancia_en_km = abs(distancia_tierra - distancia_jupiter)\n",
    "distancia_en_mi = round(distancia_en_km * 0.621)\n",
    "\n",
    "print(distancia_en_km)\n",
    "print(distancia_en_mi)"
   ]
  },
  {
   "cell_type": "markdown",
   "metadata": {},
   "source": [
    "##  Ejercicio 2: convierte cadenas en números y usa valores absolutos"
   ]
  },
  {
   "cell_type": "code",
   "execution_count": null,
   "metadata": {},
   "outputs": [],
   "source": [
    "planeta_uno = int(input(\"Ingresa la distancia del primer planeta\"))\n",
    "planeta_dos = int(input(\"Ingresa la distancia del segundo planeta\"))\n",
    "\n",
    "distancia_en_km = abs(planeta_uno - planeta_dos)\n",
    "distancia_en_mi = round(distancia_en_km * 0.621)\n",
    "\n",
    "print(distancia_en_km)\n",
    "print(distancia_en_mi)\n"
   ]
  }
 ],
 "metadata": {
  "interpreter": {
   "hash": "e7d1eee3651c33731e610f2dd0bb059a43fdb442764588196a5384f88eb58da3"
  },
  "kernelspec": {
   "display_name": "Python 3.10.2 64-bit",
   "language": "python",
   "name": "python3"
  },
  "language_info": {
   "codemirror_mode": {
    "name": "ipython",
    "version": 3
   },
   "file_extension": ".py",
   "mimetype": "text/x-python",
   "name": "python",
   "nbconvert_exporter": "python",
   "pygments_lexer": "ipython3",
   "version": "3.10.2"
  },
  "orig_nbformat": 4
 },
 "nbformat": 4,
 "nbformat_minor": 2
}
