{
 "cells": [
  {
   "cell_type": "markdown",
   "metadata": {},
   "source": [
    "##  Ejercicio 1: Creación de diccionarios de Python"
   ]
  },
  {
   "cell_type": "code",
   "execution_count": 2,
   "metadata": {},
   "outputs": [
    {
     "name": "stdout",
     "output_type": "stream",
     "text": [
      "The planet is named Mars. It has 2 moons.\n",
      "Mars has a polar circumference of 6752.\n"
     ]
    }
   ],
   "source": [
    "planet = {'name': 'Mars', 'moons': 2}\n",
    "\n",
    "print(f\"The planet is named {planet.get('name')}. It has {planet['moons']} moons.\")\n",
    "\n",
    "planet[\"circumference (km)\"] = {'polar': 6752, 'equatorial': 6792}\n",
    "\n",
    "print(f\"{planet['name']} has a polar circumference of { planet['circumference (km)'].get('polar') }.\")\n"
   ]
  },
  {
   "cell_type": "markdown",
   "metadata": {},
   "source": [
    "##  Ejercicio 2: Programación dinámica con diccionarios"
   ]
  },
  {
   "cell_type": "code",
   "execution_count": 1,
   "metadata": {},
   "outputs": [
    {
     "name": "stdout",
     "output_type": "stream",
     "text": [
      "There're are 214 in our Solar System\n",
      "On average, there are 17 moons per planet\n"
     ]
    }
   ],
   "source": [
    "planet_moons = {\n",
    "    'mercury': 0,\n",
    "    'venus': 0,\n",
    "    'earth': 1,\n",
    "    'mars': 2,\n",
    "    'jupiter': 79,\n",
    "    'saturn': 82,\n",
    "    'uranus': 27,\n",
    "    'neptune': 14,\n",
    "    'pluto': 5,\n",
    "    'haumea': 2,\n",
    "    'makemake': 1,\n",
    "    'eris': 1\n",
    "}\n",
    "\n",
    "total_planets = len(planet_moons.keys())\n",
    "\n",
    "moons_values = planet_moons.values()\n",
    "\n",
    "total_moons = 0\n",
    "\n",
    "for value in moons_values:\n",
    "    total_moons += value\n",
    "\n",
    "print(f\"There're are {total_moons} in our Solar System\")\n",
    "print(f\"On average, there are { total_moons // total_planets } moons per planet\")\n"
   ]
  }
 ],
 "metadata": {
  "interpreter": {
   "hash": "e7d1eee3651c33731e610f2dd0bb059a43fdb442764588196a5384f88eb58da3"
  },
  "kernelspec": {
   "display_name": "Python 3.10.2 64-bit",
   "language": "python",
   "name": "python3"
  },
  "language_info": {
   "codemirror_mode": {
    "name": "ipython",
    "version": 3
   },
   "file_extension": ".py",
   "mimetype": "text/x-python",
   "name": "python",
   "nbconvert_exporter": "python",
   "pygments_lexer": "ipython3",
   "version": "3.10.2"
  },
  "orig_nbformat": 4
 },
 "nbformat": 4,
 "nbformat_minor": 2
}
